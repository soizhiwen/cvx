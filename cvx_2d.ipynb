{
 "cells": [
  {
   "cell_type": "code",
   "execution_count": 1,
   "metadata": {},
   "outputs": [],
   "source": [
    "import cvxpy as cp\n",
    "import numpy as np\n",
    "import plotly.graph_objects as go\n"
   ]
  },
  {
   "cell_type": "code",
   "execution_count": 5,
   "metadata": {},
   "outputs": [
    {
     "name": "stdout",
     "output_type": "stream",
     "text": [
      "[[1.0, 1.0], [2.0, 1.0], [2.0, 2.0], [3.0, 2.0], [3.0, 3.0], [3.0, 4.0], [4.0, 3.0], [4.0, 5.0], [5.0, 5.0]]\n",
      "[[0, 1], [1, 2], [2, 3], [3, 4], [4, 5], [4, 6], [6, 7], [7, 8]]\n",
      "[0, 1, 1, 1, 0, 1, 1, 1, 0]\n"
     ]
    }
   ],
   "source": [
    "path = \"./graphs/graph_01.txt\"\n",
    "coordinates = []\n",
    "connectors = []\n",
    "fixed = []\n",
    "flag = None\n",
    "with open(path, \"r\") as f:\n",
    "    for line in f:\n",
    "        line = line.strip()\n",
    "        if line == \"a\" or line == \"b\" or line == \"c\":\n",
    "            flag = line\n",
    "            continue\n",
    "\n",
    "        if flag == \"a\":\n",
    "            coordinates.append(list(map(float, line.split())))\n",
    "        elif flag == \"b\":\n",
    "            connectors.append(list(map(int, line.split())))\n",
    "        else:\n",
    "            fixed.append(int(line))\n",
    "\n",
    "print(coordinates)\n",
    "print(connectors)\n",
    "print(fixed)\n"
   ]
  },
  {
   "cell_type": "code",
   "execution_count": 3,
   "metadata": {},
   "outputs": [],
   "source": [
    "fixed_coordinates = []\n",
    "for i, elem in enumerate(fixed):\n",
    "    if elem == 0:\n",
    "        fixed_coordinates.append(coordinates[i])\n"
   ]
  },
  {
   "cell_type": "code",
   "execution_count": 13,
   "metadata": {},
   "outputs": [
    {
     "name": "stdout",
     "output_type": "stream",
     "text": [
      "[0, 1]\n",
      "[1, 2]\n",
      "[2, 3]\n",
      "[3, 4]\n",
      "[4, 6]\n",
      "[6, 7]\n",
      "[[[0, 1], [1, 2], [2, 3], [3, 4]]]\n"
     ]
    }
   ],
   "source": [
    "paths = []\n",
    "path = []\n",
    "\n",
    "for i, elem in enumerate(connectors[1:]):\n",
    "    if elem[0] == connectors[i][1]:\n",
    "        path.append(connectors[i])\n",
    "        print(connectors[i])\n",
    "    else:\n",
    "        paths.append(path)\n",
    "        path = []\n",
    "\n",
    "print(paths)\n"
   ]
  },
  {
   "cell_type": "code",
   "execution_count": 6,
   "metadata": {},
   "outputs": [
    {
     "data": {
      "application/vnd.plotly.v1+json": {
       "config": {
        "plotlyServerURL": "https://plot.ly"
       },
       "data": [
        {
         "mode": "lines",
         "name": "Original Path",
         "type": "scatter",
         "x": [
          1,
          2,
          2,
          3,
          3,
          4,
          4,
          5
         ],
         "y": [
          1,
          1,
          2,
          2,
          3,
          3,
          5,
          5
         ]
        },
        {
         "mode": "lines",
         "name": "Optimized Path",
         "type": "scatter",
         "x": [
          1,
          1.7359050445103856,
          2.234421364985163,
          2.7863501483679527,
          3.2136498516320477,
          3.765578635014837,
          4.264094955489615,
          5
         ],
         "y": [
          1,
          1.256085712034873,
          1.7441506262965785,
          2.1840025209422023,
          2.807147921535674,
          3.477088311756519,
          4.443029332212914,
          5
         ]
        }
       ],
       "layout": {
        "template": {
         "data": {
          "bar": [
           {
            "error_x": {
             "color": "#2a3f5f"
            },
            "error_y": {
             "color": "#2a3f5f"
            },
            "marker": {
             "line": {
              "color": "#E5ECF6",
              "width": 0.5
             },
             "pattern": {
              "fillmode": "overlay",
              "size": 10,
              "solidity": 0.2
             }
            },
            "type": "bar"
           }
          ],
          "barpolar": [
           {
            "marker": {
             "line": {
              "color": "#E5ECF6",
              "width": 0.5
             },
             "pattern": {
              "fillmode": "overlay",
              "size": 10,
              "solidity": 0.2
             }
            },
            "type": "barpolar"
           }
          ],
          "carpet": [
           {
            "aaxis": {
             "endlinecolor": "#2a3f5f",
             "gridcolor": "white",
             "linecolor": "white",
             "minorgridcolor": "white",
             "startlinecolor": "#2a3f5f"
            },
            "baxis": {
             "endlinecolor": "#2a3f5f",
             "gridcolor": "white",
             "linecolor": "white",
             "minorgridcolor": "white",
             "startlinecolor": "#2a3f5f"
            },
            "type": "carpet"
           }
          ],
          "choropleth": [
           {
            "colorbar": {
             "outlinewidth": 0,
             "ticks": ""
            },
            "type": "choropleth"
           }
          ],
          "contour": [
           {
            "colorbar": {
             "outlinewidth": 0,
             "ticks": ""
            },
            "colorscale": [
             [
              0,
              "#0d0887"
             ],
             [
              0.1111111111111111,
              "#46039f"
             ],
             [
              0.2222222222222222,
              "#7201a8"
             ],
             [
              0.3333333333333333,
              "#9c179e"
             ],
             [
              0.4444444444444444,
              "#bd3786"
             ],
             [
              0.5555555555555556,
              "#d8576b"
             ],
             [
              0.6666666666666666,
              "#ed7953"
             ],
             [
              0.7777777777777778,
              "#fb9f3a"
             ],
             [
              0.8888888888888888,
              "#fdca26"
             ],
             [
              1,
              "#f0f921"
             ]
            ],
            "type": "contour"
           }
          ],
          "contourcarpet": [
           {
            "colorbar": {
             "outlinewidth": 0,
             "ticks": ""
            },
            "type": "contourcarpet"
           }
          ],
          "heatmap": [
           {
            "colorbar": {
             "outlinewidth": 0,
             "ticks": ""
            },
            "colorscale": [
             [
              0,
              "#0d0887"
             ],
             [
              0.1111111111111111,
              "#46039f"
             ],
             [
              0.2222222222222222,
              "#7201a8"
             ],
             [
              0.3333333333333333,
              "#9c179e"
             ],
             [
              0.4444444444444444,
              "#bd3786"
             ],
             [
              0.5555555555555556,
              "#d8576b"
             ],
             [
              0.6666666666666666,
              "#ed7953"
             ],
             [
              0.7777777777777778,
              "#fb9f3a"
             ],
             [
              0.8888888888888888,
              "#fdca26"
             ],
             [
              1,
              "#f0f921"
             ]
            ],
            "type": "heatmap"
           }
          ],
          "heatmapgl": [
           {
            "colorbar": {
             "outlinewidth": 0,
             "ticks": ""
            },
            "colorscale": [
             [
              0,
              "#0d0887"
             ],
             [
              0.1111111111111111,
              "#46039f"
             ],
             [
              0.2222222222222222,
              "#7201a8"
             ],
             [
              0.3333333333333333,
              "#9c179e"
             ],
             [
              0.4444444444444444,
              "#bd3786"
             ],
             [
              0.5555555555555556,
              "#d8576b"
             ],
             [
              0.6666666666666666,
              "#ed7953"
             ],
             [
              0.7777777777777778,
              "#fb9f3a"
             ],
             [
              0.8888888888888888,
              "#fdca26"
             ],
             [
              1,
              "#f0f921"
             ]
            ],
            "type": "heatmapgl"
           }
          ],
          "histogram": [
           {
            "marker": {
             "pattern": {
              "fillmode": "overlay",
              "size": 10,
              "solidity": 0.2
             }
            },
            "type": "histogram"
           }
          ],
          "histogram2d": [
           {
            "colorbar": {
             "outlinewidth": 0,
             "ticks": ""
            },
            "colorscale": [
             [
              0,
              "#0d0887"
             ],
             [
              0.1111111111111111,
              "#46039f"
             ],
             [
              0.2222222222222222,
              "#7201a8"
             ],
             [
              0.3333333333333333,
              "#9c179e"
             ],
             [
              0.4444444444444444,
              "#bd3786"
             ],
             [
              0.5555555555555556,
              "#d8576b"
             ],
             [
              0.6666666666666666,
              "#ed7953"
             ],
             [
              0.7777777777777778,
              "#fb9f3a"
             ],
             [
              0.8888888888888888,
              "#fdca26"
             ],
             [
              1,
              "#f0f921"
             ]
            ],
            "type": "histogram2d"
           }
          ],
          "histogram2dcontour": [
           {
            "colorbar": {
             "outlinewidth": 0,
             "ticks": ""
            },
            "colorscale": [
             [
              0,
              "#0d0887"
             ],
             [
              0.1111111111111111,
              "#46039f"
             ],
             [
              0.2222222222222222,
              "#7201a8"
             ],
             [
              0.3333333333333333,
              "#9c179e"
             ],
             [
              0.4444444444444444,
              "#bd3786"
             ],
             [
              0.5555555555555556,
              "#d8576b"
             ],
             [
              0.6666666666666666,
              "#ed7953"
             ],
             [
              0.7777777777777778,
              "#fb9f3a"
             ],
             [
              0.8888888888888888,
              "#fdca26"
             ],
             [
              1,
              "#f0f921"
             ]
            ],
            "type": "histogram2dcontour"
           }
          ],
          "mesh3d": [
           {
            "colorbar": {
             "outlinewidth": 0,
             "ticks": ""
            },
            "type": "mesh3d"
           }
          ],
          "parcoords": [
           {
            "line": {
             "colorbar": {
              "outlinewidth": 0,
              "ticks": ""
             }
            },
            "type": "parcoords"
           }
          ],
          "pie": [
           {
            "automargin": true,
            "type": "pie"
           }
          ],
          "scatter": [
           {
            "fillpattern": {
             "fillmode": "overlay",
             "size": 10,
             "solidity": 0.2
            },
            "type": "scatter"
           }
          ],
          "scatter3d": [
           {
            "line": {
             "colorbar": {
              "outlinewidth": 0,
              "ticks": ""
             }
            },
            "marker": {
             "colorbar": {
              "outlinewidth": 0,
              "ticks": ""
             }
            },
            "type": "scatter3d"
           }
          ],
          "scattercarpet": [
           {
            "marker": {
             "colorbar": {
              "outlinewidth": 0,
              "ticks": ""
             }
            },
            "type": "scattercarpet"
           }
          ],
          "scattergeo": [
           {
            "marker": {
             "colorbar": {
              "outlinewidth": 0,
              "ticks": ""
             }
            },
            "type": "scattergeo"
           }
          ],
          "scattergl": [
           {
            "marker": {
             "colorbar": {
              "outlinewidth": 0,
              "ticks": ""
             }
            },
            "type": "scattergl"
           }
          ],
          "scattermapbox": [
           {
            "marker": {
             "colorbar": {
              "outlinewidth": 0,
              "ticks": ""
             }
            },
            "type": "scattermapbox"
           }
          ],
          "scatterpolar": [
           {
            "marker": {
             "colorbar": {
              "outlinewidth": 0,
              "ticks": ""
             }
            },
            "type": "scatterpolar"
           }
          ],
          "scatterpolargl": [
           {
            "marker": {
             "colorbar": {
              "outlinewidth": 0,
              "ticks": ""
             }
            },
            "type": "scatterpolargl"
           }
          ],
          "scatterternary": [
           {
            "marker": {
             "colorbar": {
              "outlinewidth": 0,
              "ticks": ""
             }
            },
            "type": "scatterternary"
           }
          ],
          "surface": [
           {
            "colorbar": {
             "outlinewidth": 0,
             "ticks": ""
            },
            "colorscale": [
             [
              0,
              "#0d0887"
             ],
             [
              0.1111111111111111,
              "#46039f"
             ],
             [
              0.2222222222222222,
              "#7201a8"
             ],
             [
              0.3333333333333333,
              "#9c179e"
             ],
             [
              0.4444444444444444,
              "#bd3786"
             ],
             [
              0.5555555555555556,
              "#d8576b"
             ],
             [
              0.6666666666666666,
              "#ed7953"
             ],
             [
              0.7777777777777778,
              "#fb9f3a"
             ],
             [
              0.8888888888888888,
              "#fdca26"
             ],
             [
              1,
              "#f0f921"
             ]
            ],
            "type": "surface"
           }
          ],
          "table": [
           {
            "cells": {
             "fill": {
              "color": "#EBF0F8"
             },
             "line": {
              "color": "white"
             }
            },
            "header": {
             "fill": {
              "color": "#C8D4E3"
             },
             "line": {
              "color": "white"
             }
            },
            "type": "table"
           }
          ]
         },
         "layout": {
          "annotationdefaults": {
           "arrowcolor": "#2a3f5f",
           "arrowhead": 0,
           "arrowwidth": 1
          },
          "autotypenumbers": "strict",
          "coloraxis": {
           "colorbar": {
            "outlinewidth": 0,
            "ticks": ""
           }
          },
          "colorscale": {
           "diverging": [
            [
             0,
             "#8e0152"
            ],
            [
             0.1,
             "#c51b7d"
            ],
            [
             0.2,
             "#de77ae"
            ],
            [
             0.3,
             "#f1b6da"
            ],
            [
             0.4,
             "#fde0ef"
            ],
            [
             0.5,
             "#f7f7f7"
            ],
            [
             0.6,
             "#e6f5d0"
            ],
            [
             0.7,
             "#b8e186"
            ],
            [
             0.8,
             "#7fbc41"
            ],
            [
             0.9,
             "#4d9221"
            ],
            [
             1,
             "#276419"
            ]
           ],
           "sequential": [
            [
             0,
             "#0d0887"
            ],
            [
             0.1111111111111111,
             "#46039f"
            ],
            [
             0.2222222222222222,
             "#7201a8"
            ],
            [
             0.3333333333333333,
             "#9c179e"
            ],
            [
             0.4444444444444444,
             "#bd3786"
            ],
            [
             0.5555555555555556,
             "#d8576b"
            ],
            [
             0.6666666666666666,
             "#ed7953"
            ],
            [
             0.7777777777777778,
             "#fb9f3a"
            ],
            [
             0.8888888888888888,
             "#fdca26"
            ],
            [
             1,
             "#f0f921"
            ]
           ],
           "sequentialminus": [
            [
             0,
             "#0d0887"
            ],
            [
             0.1111111111111111,
             "#46039f"
            ],
            [
             0.2222222222222222,
             "#7201a8"
            ],
            [
             0.3333333333333333,
             "#9c179e"
            ],
            [
             0.4444444444444444,
             "#bd3786"
            ],
            [
             0.5555555555555556,
             "#d8576b"
            ],
            [
             0.6666666666666666,
             "#ed7953"
            ],
            [
             0.7777777777777778,
             "#fb9f3a"
            ],
            [
             0.8888888888888888,
             "#fdca26"
            ],
            [
             1,
             "#f0f921"
            ]
           ]
          },
          "colorway": [
           "#636efa",
           "#EF553B",
           "#00cc96",
           "#ab63fa",
           "#FFA15A",
           "#19d3f3",
           "#FF6692",
           "#B6E880",
           "#FF97FF",
           "#FECB52"
          ],
          "font": {
           "color": "#2a3f5f"
          },
          "geo": {
           "bgcolor": "white",
           "lakecolor": "white",
           "landcolor": "#E5ECF6",
           "showlakes": true,
           "showland": true,
           "subunitcolor": "white"
          },
          "hoverlabel": {
           "align": "left"
          },
          "hovermode": "closest",
          "mapbox": {
           "style": "light"
          },
          "paper_bgcolor": "white",
          "plot_bgcolor": "#E5ECF6",
          "polar": {
           "angularaxis": {
            "gridcolor": "white",
            "linecolor": "white",
            "ticks": ""
           },
           "bgcolor": "#E5ECF6",
           "radialaxis": {
            "gridcolor": "white",
            "linecolor": "white",
            "ticks": ""
           }
          },
          "scene": {
           "xaxis": {
            "backgroundcolor": "#E5ECF6",
            "gridcolor": "white",
            "gridwidth": 2,
            "linecolor": "white",
            "showbackground": true,
            "ticks": "",
            "zerolinecolor": "white"
           },
           "yaxis": {
            "backgroundcolor": "#E5ECF6",
            "gridcolor": "white",
            "gridwidth": 2,
            "linecolor": "white",
            "showbackground": true,
            "ticks": "",
            "zerolinecolor": "white"
           },
           "zaxis": {
            "backgroundcolor": "#E5ECF6",
            "gridcolor": "white",
            "gridwidth": 2,
            "linecolor": "white",
            "showbackground": true,
            "ticks": "",
            "zerolinecolor": "white"
           }
          },
          "shapedefaults": {
           "line": {
            "color": "#2a3f5f"
           }
          },
          "ternary": {
           "aaxis": {
            "gridcolor": "white",
            "linecolor": "white",
            "ticks": ""
           },
           "baxis": {
            "gridcolor": "white",
            "linecolor": "white",
            "ticks": ""
           },
           "bgcolor": "#E5ECF6",
           "caxis": {
            "gridcolor": "white",
            "linecolor": "white",
            "ticks": ""
           }
          },
          "title": {
           "x": 0.05
          },
          "xaxis": {
           "automargin": true,
           "gridcolor": "white",
           "linecolor": "white",
           "ticks": "",
           "title": {
            "standoff": 15
           },
           "zerolinecolor": "white",
           "zerolinewidth": 2
          },
          "yaxis": {
           "automargin": true,
           "gridcolor": "white",
           "linecolor": "white",
           "ticks": "",
           "title": {
            "standoff": 15
           },
           "zerolinecolor": "white",
           "zerolinewidth": 2
          }
         }
        }
       }
      }
     },
     "metadata": {},
     "output_type": "display_data"
    }
   ],
   "source": [
    "# Define the original path as a set of points\n",
    "path = np.array([[1, 1], [2, 1], [2, 2], [3, 2], [3, 3], [4, 3], [4, 5], [5, 5]])\n",
    "\n",
    "# Define the starting and ending points\n",
    "start_point = path[0]\n",
    "end_point = path[-1]\n",
    "\n",
    "# Define the variables for the optimized path\n",
    "n_points = len(path)\n",
    "opt_path = cp.Variable((n_points, 2))\n",
    "\n",
    "# Define the regularization parameter\n",
    "alpha = 0.5\n",
    "\n",
    "# Define the objective function to minimize the curvature and distance\n",
    "obj = cp.sum_squares(\n",
    "    opt_path[1:-1, :] - 0.5 * (opt_path[0:-2, :] + opt_path[2:, :])\n",
    ") + alpha * cp.sum_squares(opt_path - path)\n",
    "\n",
    "# Define the constraints to ensure the optimized path passes through the starting and ending points\n",
    "constraints = [opt_path[0, :] == start_point, opt_path[-1, :] == end_point]\n",
    "\n",
    "# Solve the optimization problem\n",
    "prob = cp.Problem(cp.Minimize(obj), constraints)\n",
    "prob.solve()\n",
    "\n",
    "# Get the optimized path\n",
    "opt_path = opt_path.value\n",
    "\n",
    "# Plot the original and optimized paths using plotly\n",
    "fig = go.Figure()\n",
    "fig.add_trace(\n",
    "    go.Scatter(x=path[:, 0], y=path[:, 1], mode=\"lines\", name=\"Original Path\")\n",
    ")\n",
    "fig.add_trace(\n",
    "    go.Scatter(x=opt_path[:, 0], y=opt_path[:, 1], mode=\"lines\", name=\"Optimized Path\")\n",
    ")\n",
    "fig.show()\n"
   ]
  },
  {
   "cell_type": "code",
   "execution_count": 55,
   "metadata": {},
   "outputs": [
    {
     "data": {
      "image/png": "[encoded data removed]",
      "text/plain": [
       "<Figure size 640x480 with 1 Axes>"
      ]
     },
     "metadata": {},
     "output_type": "display_data"
    }
   ],
   "source": [
    "import networkx as nx\n",
    "\n",
    "G = nx.Graph()\n",
    "\n",
    "G.add_node(0, pos=(1.0, 1.0))\n",
    "G.add_node(1, pos=(2.0, 1.0))\n",
    "G.add_node(2, pos=(2.0, 2.0))\n",
    "G.add_node(3, pos=(3.0, 2.0))\n",
    "G.add_node(4, pos=(3.0, 3.0))\n",
    "G.add_node(5, pos=(3.0, 4.0))\n",
    "G.add_node(6, pos=(4.0, 3.0))\n",
    "G.add_node(7, pos=(4.0, 5.0))\n",
    "G.add_node(8, pos=(5.0, 5.0))\n",
    "\n",
    "G.add_edge(0, 1)\n",
    "G.add_edge(1, 2)\n",
    "G.add_edge(2, 3)\n",
    "G.add_edge(3, 4)\n",
    "G.add_edge(4, 5)\n",
    "G.add_edge(4, 6)\n",
    "G.add_edge(6, 7)\n",
    "G.add_edge(7, 8)\n",
    "\n",
    "nx.draw(G, nx.get_node_attributes(G, 'pos'), with_labels=True)\n"
   ]
  },
  {
   "cell_type": "code",
   "execution_count": 56,
   "metadata": {},
   "outputs": [
    {
     "data": {
      "image/png": "[encoded data removed]",
      "text/plain": [
       "<Figure size 800x600 with 1 Axes>"
      ]
     },
     "metadata": {},
     "output_type": "display_data"
    }
   ],
   "source": [
    "import networkx as nx\n",
    "import cvxpy as cp\n",
    "import numpy as np\n",
    "import matplotlib.pyplot as plt\n",
    "\n",
    "# Define the regularization parameter\n",
    "alpha = 0.5\n",
    "\n",
    "# Create the networkx graph\n",
    "G = nx.Graph()\n",
    "\n",
    "G.add_node(0, pos=(1.0, 1.0))\n",
    "G.add_node(1, pos=(2.0, 1.0))\n",
    "G.add_node(2, pos=(2.0, 2.0))\n",
    "G.add_node(3, pos=(3.0, 2.0))\n",
    "G.add_node(4, pos=(3.0, 3.0))\n",
    "G.add_node(5, pos=(3.0, 4.0))\n",
    "G.add_node(6, pos=(4.0, 3.0))\n",
    "G.add_node(7, pos=(4.0, 5.0))\n",
    "G.add_node(8, pos=(5.0, 5.0))\n",
    "\n",
    "G.add_edge(0, 1)\n",
    "G.add_edge(1, 2)\n",
    "G.add_edge(2, 3)\n",
    "G.add_edge(3, 4)\n",
    "G.add_edge(4, 5)\n",
    "G.add_edge(4, 6)\n",
    "G.add_edge(6, 7)\n",
    "G.add_edge(7, 8)\n",
    "\n",
    "pos = nx.get_node_attributes(G, 'pos')\n",
    "num_nodes = len(pos)\n",
    "\n",
    "# Create the optimization variables\n",
    "opt_path = cp.Variable((num_nodes, 2))\n",
    "\n",
    "# Define the objective function to minimize the curvature and distance\n",
    "obj = cp.sum_squares(\n",
    "    opt_path[1:-1, :] - 0.5 * (opt_path[0:-2, :] + opt_path[2:, :])\n",
    ") + alpha * cp.sum_squares(opt_path - np.array(list(pos.values())))\n",
    "\n",
    "# Define the constraints for fixed nodes\n",
    "constraints = []\n",
    "for node, position in pos.items():\n",
    "    if len(list(G.neighbors(node))) != 2:\n",
    "        constraints.append(opt_path[node, :] == np.array(position))\n",
    "\n",
    "# Create the optimization problem\n",
    "problem = cp.Problem(cp.Minimize(obj), constraints)\n",
    "\n",
    "# Solve the problem\n",
    "problem.solve()\n",
    "\n",
    "# Retrieve the optimized path\n",
    "optimized_pos = {node: tuple(opt_path[node, :].value) for node in G.nodes()}\n",
    "\n",
    "# Draw the graph with optimized positions\n",
    "plt.figure(figsize=(8, 6))\n",
    "nx.draw(G, pos=optimized_pos, with_labels=True, node_size=500, node_color='lightblue', edge_color='gray')\n",
    "plt.title(\"Network Graph with Optimized Positions\")\n",
    "plt.show()\n"
   ]
  },
  {
   "cell_type": "code",
   "execution_count": 103,
   "metadata": {},
   "outputs": [
    {
     "data": {
      "image/png": "[encoded data removed]",
      "text/plain": [
       "<Figure size 800x600 with 1 Axes>"
      ]
     },
     "metadata": {},
     "output_type": "display_data"
    }
   ],
   "source": [
    "import networkx as nx\n",
    "import cvxpy as cp\n",
    "import numpy as np\n",
    "import matplotlib.pyplot as plt\n",
    "\n",
    "# Create the networkx graph\n",
    "G = nx.Graph()\n",
    "\n",
    "G.add_node(0, pos=(1.0, 1.0))\n",
    "G.add_node(1, pos=(2.0, 1.0))\n",
    "G.add_node(2, pos=(2.0, 2.0))\n",
    "G.add_node(3, pos=(3.0, 2.0))\n",
    "G.add_node(4, pos=(3.0, 3.0))\n",
    "G.add_node(5, pos=(3.0, 4.0))\n",
    "G.add_node(6, pos=(4.0, 3.0))\n",
    "G.add_node(7, pos=(4.0, 5.0))\n",
    "G.add_node(8, pos=(5.0, 5.0))\n",
    "\n",
    "G.add_edge(0, 1)\n",
    "G.add_edge(1, 2)\n",
    "G.add_edge(2, 3)\n",
    "G.add_edge(3, 4)\n",
    "G.add_edge(4, 5)\n",
    "G.add_edge(4, 6)\n",
    "G.add_edge(6, 7)\n",
    "G.add_edge(7, 8)\n",
    "\n",
    "pos = nx.get_node_attributes(G, 'pos')\n",
    "num_nodes = len(pos)\n",
    "\n",
    "# Create the optimization variables\n",
    "opt_path = cp.Variable((num_nodes, 2))\n",
    "\n",
    "# Define the regularization parameter\n",
    "alpha = 0\n",
    "\n",
    "# Define the objective function to minimize the curvature and distance\n",
    "obj = cp.sum_squares(\n",
    "    opt_path[1:-1, :] - 0.5 * (opt_path[0:-2, :] + opt_path[2:, :])\n",
    ") + alpha * cp.sum_squares(opt_path - np.array(list(pos.values())))\n",
    "\n",
    "# Define the constraints for fixed nodes\n",
    "constraints = []\n",
    "for node, position in pos.items():\n",
    "    if len(list(G.neighbors(node))) != 2:\n",
    "        constraints.append(opt_path[node, :] == np.array(position))\n",
    "\n",
    "# Create the optimization problem\n",
    "problem = cp.Problem(cp.Minimize(obj), constraints)\n",
    "\n",
    "# Solve the problem\n",
    "problem.solve()\n",
    "\n",
    "# Retrieve the optimized path\n",
    "optimized_pos = {node: tuple(opt_path[node, :].value) for node in G.nodes()}\n",
    "\n",
    "# Draw the original and optimized graphs together\n",
    "plt.figure(figsize=(8, 6))\n",
    "\n",
    "# Draw the original graph\n",
    "nx.draw(G, pos=pos, with_labels=True, node_size=500, node_color='lightblue', edge_color='gray')\n",
    "\n",
    "# Draw the optimized graph\n",
    "nx.draw(G, pos=optimized_pos, with_labels=False, node_size=300, node_color='red', edge_color='black')\n",
    "\n",
    "plt.title(\"Original and Optimized Graphs\")\n",
    "plt.legend(['Original', 'Optimized'])\n",
    "plt.show()\n"
   ]
  },
  {
   "cell_type": "code",
   "execution_count": 89,
   "metadata": {},
   "outputs": [
    {
     "data": {
      "image/png": "[encoded data removed]",
      "text/plain": [
       "<Figure size 1000x500 with 2 Axes>"
      ]
     },
     "metadata": {},
     "output_type": "display_data"
    }
   ],
   "source": [
    "import networkx as nx\n",
    "import cvxpy as cp\n",
    "import numpy as np\n",
    "import matplotlib.pyplot as plt\n",
    "\n",
    "# Create the graph\n",
    "G = nx.Graph()\n",
    "G.add_node(0, pos=(1.0, 1.0))\n",
    "G.add_node(1, pos=(2.0, 1.0))\n",
    "G.add_node(2, pos=(2.0, 2.0))\n",
    "G.add_node(3, pos=(3.0, 2.0))\n",
    "G.add_node(4, pos=(3.0, 3.0))\n",
    "G.add_node(5, pos=(3.0, 4.0))\n",
    "G.add_node(6, pos=(4.0, 3.0))\n",
    "G.add_node(7, pos=(4.0, 5.0))\n",
    "G.add_node(8, pos=(5.0, 5.0))\n",
    "G.add_edge(0, 1)\n",
    "G.add_edge(1, 2)\n",
    "G.add_edge(2, 3)\n",
    "G.add_edge(3, 4)\n",
    "G.add_edge(4, 5)\n",
    "G.add_edge(4, 6)\n",
    "G.add_edge(6, 7)\n",
    "G.add_edge(7, 8)\n",
    "\n",
    "# Get the node positions\n",
    "pos = nx.get_node_attributes(G, 'pos')\n",
    "\n",
    "# Get the number of nodes and edges\n",
    "n = G.number_of_nodes()\n",
    "m = G.number_of_edges()\n",
    "\n",
    "# Get the adjacency matrix\n",
    "A = nx.adjacency_matrix(G).todense()\n",
    "\n",
    "# Flatten the node positions\n",
    "X = np.array(list(pos.values()))\n",
    "\n",
    "# Define the optimization variables\n",
    "opt_X = cp.Variable((n, 2))\n",
    "\n",
    "# Define the regularization parameter\n",
    "alpha = 0.5\n",
    "\n",
    "# Define the objective function to minimize the curvature and distance\n",
    "obj = cp.sum_squares(\n",
    "    opt_X[1:-1, :] - 0.5 * (opt_X[0:-2, :] + opt_X[2:, :])\n",
    ") + alpha * cp.sum_squares(opt_X - X)\n",
    "\n",
    "# Define the constraints\n",
    "constraints = [opt_X[i, :] == X[i, :] for i in range(n) if G.degree[i] == 2]\n",
    "\n",
    "# Define the problem\n",
    "problem = cp.Problem(cp.Minimize(obj), constraints)\n",
    "\n",
    "# Solve the problem\n",
    "problem.solve()\n",
    "\n",
    "# Get the optimized node positions\n",
    "optimized_pos = {i: tuple(opt_X[i, :].value) for i in range(n)}\n",
    "\n",
    "# Draw the original and optimized graphs\n",
    "plt.figure(figsize=(10, 5))\n",
    "plt.subplot(121)\n",
    "nx.draw(G, pos, with_labels=True)\n",
    "plt.title('Original Graph')\n",
    "plt.subplot(122)\n",
    "nx.draw(G, optimized_pos, with_labels=True)\n",
    "plt.title('Optimized Graph')\n",
    "plt.tight_layout()\n",
    "plt.show()\n"
   ]
  },
  {
   "cell_type": "code",
   "execution_count": 81,
   "metadata": {},
   "outputs": [
    {
     "data": {
      "image/png": "[encoded data removed]",
      "text/plain": [
       "<Figure size 1000x500 with 2 Axes>"
      ]
     },
     "metadata": {},
     "output_type": "display_data"
    }
   ],
   "source": [
    "import networkx as nx\n",
    "import cvxpy as cp\n",
    "import numpy as np\n",
    "import matplotlib.pyplot as plt\n",
    "\n",
    "# Create the graph\n",
    "G = nx.Graph()\n",
    "G.add_node(0, pos=(1.0, 1.0))\n",
    "G.add_node(1, pos=(2.0, 1.0))\n",
    "G.add_node(2, pos=(2.0, 2.0))\n",
    "G.add_node(3, pos=(3.0, 2.0))\n",
    "G.add_node(4, pos=(3.0, 3.0))\n",
    "G.add_node(5, pos=(3.0, 4.0))\n",
    "G.add_node(6, pos=(4.0, 3.0))\n",
    "G.add_node(7, pos=(4.0, 5.0))\n",
    "G.add_node(8, pos=(5.0, 5.0))\n",
    "G.add_edge(0, 1)\n",
    "G.add_edge(1, 2)\n",
    "G.add_edge(2, 3)\n",
    "G.add_edge(3, 4)\n",
    "G.add_edge(4, 5)\n",
    "G.add_edge(4, 6)\n",
    "G.add_edge(6, 7)\n",
    "G.add_edge(7, 8)\n",
    "\n",
    "# Get the node positions\n",
    "pos = nx.get_node_attributes(G, 'pos')\n",
    "\n",
    "# Get the number of nodes and edges\n",
    "n = G.number_of_nodes()\n",
    "m = G.number_of_edges()\n",
    "\n",
    "# Get the adjacency matrix\n",
    "A = nx.adjacency_matrix(G).todense()\n",
    "\n",
    "# Flatten the node positions\n",
    "X = np.array(list(pos.values()))\n",
    "\n",
    "# Define the optimization variables\n",
    "opt_X = cp.Variable((n, 2))\n",
    "\n",
    "# Define the regularization parameter\n",
    "alpha = 0\n",
    "\n",
    "# Define the objective function to minimize the curvature and distance\n",
    "obj = cp.sum_squares(\n",
    "    opt_X[1:-1, :] - 0.5 * (opt_X[0:-2, :] + opt_X[2:, :])\n",
    ") + alpha * cp.sum_squares(opt_X - X)\n",
    "\n",
    "# Define the constraints\n",
    "constraints = [\n",
    "    opt_X[i, :] == X[i, :]\n",
    "    for i in range(n)\n",
    "    if G.degree[i] == 1 or i in [0, 4, 5, 8]\n",
    "]\n",
    "\n",
    "# Define the problem\n",
    "problem = cp.Problem(cp.Minimize(obj), constraints)\n",
    "\n",
    "# Solve the problem\n",
    "problem.solve()\n",
    "\n",
    "# Get the optimized node positions\n",
    "optimized_pos = {i: tuple(opt_X[i, :].value) for i in range(n)}\n",
    "\n",
    "# Draw the original and optimized graphs\n",
    "plt.figure(figsize=(10, 5))\n",
    "plt.subplot(121)\n",
    "nx.draw(G, pos, with_labels=True)\n",
    "plt.title('Original Graph')\n",
    "plt.subplot(122)\n",
    "nx.draw(G, optimized_pos, with_labels=True)\n",
    "plt.title('Optimized Graph')\n",
    "plt.tight_layout()\n",
    "plt.show()\n"
   ]
  }
 ],
 "metadata": {
  "kernelspec": {
   "display_name": "venv",
   "language": "python",
   "name": "python3"
  },
  "language_info": {
   "codemirror_mode": {
    "name": "ipython",
    "version": 3
   },
   "file_extension": ".py",
   "mimetype": "text/x-python",
   "name": "python",
   "nbconvert_exporter": "python",
   "pygments_lexer": "ipython3",
   "version": "3.10.10"
  },
  "orig_nbformat": 4
 },
 "nbformat": 4,
 "nbformat_minor": 2
}
